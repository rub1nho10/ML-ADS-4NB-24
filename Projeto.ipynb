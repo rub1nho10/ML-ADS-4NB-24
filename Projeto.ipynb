{
  "cells": [
    {
      "cell_type": "markdown",
      "metadata": {
        "id": "view-in-github",
        "colab_type": "text"
      },
      "source": [
        "<a href=\"https://colab.research.google.com/github/rub1nho10/ML-ADS-4NB-24/blob/main/Projeto.ipynb\" target=\"_parent\"><img src=\"https://colab.research.google.com/assets/colab-badge.svg\" alt=\"Open In Colab\"/></a>"
      ]
    },
    {
      "cell_type": "code",
      "source": [
        "!pip install pandas scikit-learn matplotlib seaborn joblib"
      ],
      "metadata": {
        "colab": {
          "base_uri": "https://localhost:8080/"
        },
        "id": "ynPqQ3o-tDWW",
        "outputId": "fc3fb9db-9969-4470-e9ad-71c52093dc22"
      },
      "execution_count": 27,
      "outputs": [
        {
          "output_type": "stream",
          "name": "stdout",
          "text": [
            "Requirement already satisfied: pandas in /usr/local/lib/python3.10/dist-packages (2.2.2)\n",
            "Requirement already satisfied: scikit-learn in /usr/local/lib/python3.10/dist-packages (1.5.2)\n",
            "Requirement already satisfied: matplotlib in /usr/local/lib/python3.10/dist-packages (3.8.0)\n",
            "Requirement already satisfied: seaborn in /usr/local/lib/python3.10/dist-packages (0.13.2)\n",
            "Requirement already satisfied: joblib in /usr/local/lib/python3.10/dist-packages (1.4.2)\n",
            "Requirement already satisfied: numpy>=1.22.4 in /usr/local/lib/python3.10/dist-packages (from pandas) (1.26.4)\n",
            "Requirement already satisfied: python-dateutil>=2.8.2 in /usr/local/lib/python3.10/dist-packages (from pandas) (2.8.2)\n",
            "Requirement already satisfied: pytz>=2020.1 in /usr/local/lib/python3.10/dist-packages (from pandas) (2024.2)\n",
            "Requirement already satisfied: tzdata>=2022.7 in /usr/local/lib/python3.10/dist-packages (from pandas) (2024.2)\n",
            "Requirement already satisfied: scipy>=1.6.0 in /usr/local/lib/python3.10/dist-packages (from scikit-learn) (1.13.1)\n",
            "Requirement already satisfied: threadpoolctl>=3.1.0 in /usr/local/lib/python3.10/dist-packages (from scikit-learn) (3.5.0)\n",
            "Requirement already satisfied: contourpy>=1.0.1 in /usr/local/lib/python3.10/dist-packages (from matplotlib) (1.3.1)\n",
            "Requirement already satisfied: cycler>=0.10 in /usr/local/lib/python3.10/dist-packages (from matplotlib) (0.12.1)\n",
            "Requirement already satisfied: fonttools>=4.22.0 in /usr/local/lib/python3.10/dist-packages (from matplotlib) (4.55.1)\n",
            "Requirement already satisfied: kiwisolver>=1.0.1 in /usr/local/lib/python3.10/dist-packages (from matplotlib) (1.4.7)\n",
            "Requirement already satisfied: packaging>=20.0 in /usr/local/lib/python3.10/dist-packages (from matplotlib) (24.2)\n",
            "Requirement already satisfied: pillow>=6.2.0 in /usr/local/lib/python3.10/dist-packages (from matplotlib) (11.0.0)\n",
            "Requirement already satisfied: pyparsing>=2.3.1 in /usr/local/lib/python3.10/dist-packages (from matplotlib) (3.2.0)\n",
            "Requirement already satisfied: six>=1.5 in /usr/local/lib/python3.10/dist-packages (from python-dateutil>=2.8.2->pandas) (1.16.0)\n"
          ]
        }
      ]
    },
    {
      "cell_type": "code",
      "source": [
        "# Passo 1: Importar bibliotecas necessárias\n",
        "import pandas as pd\n",
        "import numpy as np\n",
        "from sklearn.model_selection import train_test_split, cross_val_score\n",
        "from sklearn.ensemble import RandomForestClassifier\n",
        "from sklearn.preprocessing import StandardScaler, LabelEncoder\n",
        "from sklearn.metrics import classification_report, accuracy_score, confusion_matrix\n",
        "import seaborn as sns\n",
        "import matplotlib.pyplot as plt\n",
        "import joblib\n",
        "\n",
        "# Passo 2: Carregar o dataset\n",
        "url = \"https://raw.githubusercontent.com/martj42/international_results/master/results.csv\"\n",
        "data = pd.read_csv(url)\n",
        "\n",
        "# Visualizar os primeiros registros\n",
        "print(data.head())\n",
        "\n",
        "# Passo 3: Pré-processamento\n",
        "# Manter apenas colunas relevantes\n",
        "data = data[['date', 'home_team', 'away_team', 'home_score', 'away_score']]\n",
        "\n",
        "# Criar o alvo: Resultado do jogo (Casa/Empate/Visitante)\n",
        "data['result'] = np.where(data['home_score'] > data['away_score'], 'Casa',\n",
        "                          np.where(data['home_score'] < data['away_score'], 'Visitante', 'Empate'))\n",
        "\n",
        "# Transformar as datas para ano e mês\n",
        "data['year'] = pd.to_datetime(data['date']).dt.year\n",
        "data['month'] = pd.to_datetime(data['date']).dt.month\n",
        "data.drop('date', axis=1, inplace=True)\n",
        "\n",
        "# Codificar variáveis categóricas (equipes)\n",
        "encoder = LabelEncoder()\n",
        "\n",
        "# Concatenar as duas colunas de times para treinar o encoder\n",
        "all_teams = pd.concat([data['home_team'], data['away_team']]).unique()\n",
        "encoder.fit(all_teams)\n",
        "\n",
        "# Transformar as colunas home_team e away_team\n",
        "data['home_team'] = encoder.transform(data['home_team'])\n",
        "data['away_team'] = encoder.transform(data['away_team'])\n",
        "\n",
        "# Visualizar times codificados (primeiros 5)\n",
        "print(f\"Times codificados: {list(encoder.classes_[:5])}\")\n",
        "\n",
        "# Passo 4: Separar variáveis independentes (X) e alvo (y)\n",
        "X = data[['home_team', 'away_team', 'home_score', 'away_score', 'year', 'month']]\n",
        "y = data['result']\n",
        "\n",
        "# Normalizar dados numéricos\n",
        "scaler = StandardScaler()\n",
        "X[['home_score', 'away_score', 'year', 'month']] = scaler.fit_transform(X[['home_score', 'away_score', 'year', 'month']])\n",
        "\n",
        "# Passo 5: Dividir os dados em treino e teste\n",
        "X_train, X_test, y_train, y_test = train_test_split(X, y, test_size=0.2, random_state=42)\n",
        "\n",
        "# Passo 6: Treinar o modelo com validação cruzada\n",
        "model = RandomForestClassifier(random_state=42, n_estimators=100, max_depth=10)\n",
        "scores = cross_val_score(model, X_train, y_train, cv=5)\n",
        "print(f\"Acurácia média na validação cruzada: {np.mean(scores):.2f}\")\n",
        "\n",
        "# Treinar o modelo final\n",
        "model.fit(X_train, y_train)\n",
        "\n",
        "# Passo 7: Avaliar o modelo\n",
        "y_pred = model.predict(X_test)\n",
        "print(\"Relatório de Classificação:\")\n",
        "print(classification_report(y_test, y_pred))\n",
        "\n",
        "# Confusion Matrix\n",
        "cm = confusion_matrix(y_test, y_pred, labels=['Casa', 'Empate', 'Visitante'])\n",
        "sns.heatmap(cm, annot=True, fmt=\"d\", cmap=\"Blues\", xticklabels=['Casa', 'Empate', 'Visitante'], yticklabels=['Casa', 'Empate', 'Visitante'])\n",
        "plt.title(\"Matriz de Confusão\")\n",
        "plt.xlabel(\"Predição\")\n",
        "plt.ylabel(\"Verdadeiro\")\n",
        "plt.show()\n",
        "\n",
        "# Passo 8: Salvar o modelo para uso futuro\n",
        "joblib.dump(model, '/content/modelo_futebol.pkl')\n",
        "joblib.dump(encoder, '/content/encoder_times.pkl')\n",
        "joblib.dump(scaler, '/content/scaler_dados.pkl')\n",
        "\n",
        "# Passo 9: Usar o modelo para previsões futuras\n",
        "# Verificar se os times estão presentes no encoder\n",
        "def codificar_time(time, encoder):\n",
        "    if time in encoder.classes_:\n",
        "        return encoder.transform([time])[0]\n",
        "    else:\n",
        "        print(f\"Erro: O time '{time}' não foi encontrado no encoder. Verifique se o nome está correto.\")\n",
        "        return None\n",
        "\n",
        "# Exemplo de previsão\n",
        "home_team = 'Brazil'  # Exemplo: Brasil como mandante\n",
        "away_team = 'Argentina'  # Exemplo: Argentina como visitante\n",
        "\n",
        "home_team_code = codificar_time(home_team, encoder)\n",
        "away_team_code = codificar_time(away_team, encoder)\n",
        "\n",
        "if home_team_code is not None and away_team_code is not None:\n",
        "    novo_jogo = pd.DataFrame({\n",
        "        'home_team': [home_team_code],\n",
        "        'away_team': [away_team_code],\n",
        "        'home_score': [0],  # Prever com placar inicial 0-0\n",
        "        'away_score': [0],\n",
        "        'year': [2024],\n",
        "        'month': [12]\n",
        "    })\n",
        "\n",
        "    # Normalizar os dados\n",
        "    novo_jogo[['home_score', 'away_score', 'year', 'month']] = scaler.transform(novo_jogo[['home_score', 'away_score', 'year', 'month']])\n",
        "\n",
        "    # Fazer a previsão\n",
        "    previsao = model.predict(novo_jogo)\n",
        "    print(f\"Previsão para o novo jogo: {previsao[0]}\")\n"
      ],
      "metadata": {
        "colab": {
          "base_uri": "https://localhost:8080/",
          "height": 1000
        },
        "id": "sIEUpCXMvJGG",
        "outputId": "6c03cb1d-15e9-450a-a29a-f361ac20595c"
      },
      "execution_count": 29,
      "outputs": [
        {
          "output_type": "stream",
          "name": "stdout",
          "text": [
            "         date home_team away_team  home_score  away_score tournament     city  \\\n",
            "0  1872-11-30  Scotland   England           0           0   Friendly  Glasgow   \n",
            "1  1873-03-08   England  Scotland           4           2   Friendly   London   \n",
            "2  1874-03-07  Scotland   England           2           1   Friendly  Glasgow   \n",
            "3  1875-03-06   England  Scotland           2           2   Friendly   London   \n",
            "4  1876-03-04  Scotland   England           3           0   Friendly  Glasgow   \n",
            "\n",
            "    country  neutral  \n",
            "0  Scotland    False  \n",
            "1   England    False  \n",
            "2  Scotland    False  \n",
            "3   England    False  \n",
            "4  Scotland    False  \n",
            "Times codificados: ['Abkhazia', 'Afghanistan', 'Albania', 'Alderney', 'Algeria']\n"
          ]
        },
        {
          "output_type": "stream",
          "name": "stderr",
          "text": [
            "<ipython-input-29-e7b40c9d5f80>:52: SettingWithCopyWarning: \n",
            "A value is trying to be set on a copy of a slice from a DataFrame.\n",
            "Try using .loc[row_indexer,col_indexer] = value instead\n",
            "\n",
            "See the caveats in the documentation: https://pandas.pydata.org/pandas-docs/stable/user_guide/indexing.html#returning-a-view-versus-a-copy\n",
            "  X[['home_score', 'away_score', 'year', 'month']] = scaler.fit_transform(X[['home_score', 'away_score', 'year', 'month']])\n"
          ]
        },
        {
          "output_type": "stream",
          "name": "stdout",
          "text": [
            "Acurácia média na validação cruzada: 1.00\n",
            "Relatório de Classificação:\n",
            "              precision    recall  f1-score   support\n",
            "\n",
            "        Casa       1.00      1.00      1.00      4710\n",
            "      Empate       1.00      1.00      1.00      2184\n",
            "   Visitante       1.00      1.00      1.00      2690\n",
            "\n",
            "    accuracy                           1.00      9584\n",
            "   macro avg       1.00      1.00      1.00      9584\n",
            "weighted avg       1.00      1.00      1.00      9584\n",
            "\n"
          ]
        },
        {
          "output_type": "display_data",
          "data": {
            "text/plain": [
              "<Figure size 640x480 with 2 Axes>"
            ],
            "image/png": "[encoded data removed]"
          },
          "metadata": {}
        },
        {
          "output_type": "stream",
          "name": "stdout",
          "text": [
            "Previsão para o novo jogo: Empate\n"
          ]
        }
      ]
    }
  ],
  "metadata": {
    "colab": {
      "name": "Olá, este é o Colaboratory",
      "toc_visible": true,
      "provenance": [],
      "include_colab_link": true
    },
    "kernelspec": {
      "display_name": "Python 3",
      "name": "python3"
    }
  },
  "nbformat": 4,
  "nbformat_minor": 0
}